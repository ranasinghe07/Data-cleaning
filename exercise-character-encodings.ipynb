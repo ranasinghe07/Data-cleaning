{
 "cells": [
  {
   "cell_type": "markdown",
   "id": "02c0007b",
   "metadata": {
    "papermill": {
     "duration": 0.004761,
     "end_time": "2025-07-19T06:08:43.840023",
     "exception": false,
     "start_time": "2025-07-19T06:08:43.835262",
     "status": "completed"
    },
    "tags": []
   },
   "source": [
    "**This notebook is an exercise in the [Data Cleaning](https://www.kaggle.com/learn/data-cleaning) course.  You can reference the tutorial at [this link](https://www.kaggle.com/alexisbcook/character-encodings).**\n",
    "\n",
    "---\n"
   ]
  },
  {
   "cell_type": "markdown",
   "id": "c2eafc51",
   "metadata": {
    "papermill": {
     "duration": 0.003633,
     "end_time": "2025-07-19T06:08:43.847880",
     "exception": false,
     "start_time": "2025-07-19T06:08:43.844247",
     "status": "completed"
    },
    "tags": []
   },
   "source": [
    "In this exercise, you'll apply what you learned in the **Character encodings** tutorial.\n",
    "\n",
    "# Setup\n",
    "\n",
    "The questions below will give you feedback on your work. Run the following cell to set up the feedback system."
   ]
  },
  {
   "cell_type": "code",
   "execution_count": 1,
   "id": "53efecf3",
   "metadata": {
    "execution": {
     "iopub.execute_input": "2025-07-19T06:08:43.855648Z",
     "iopub.status.busy": "2025-07-19T06:08:43.855348Z",
     "iopub.status.idle": "2025-07-19T06:08:45.755132Z",
     "shell.execute_reply": "2025-07-19T06:08:45.753872Z"
    },
    "papermill": {
     "duration": 1.905411,
     "end_time": "2025-07-19T06:08:45.756719",
     "exception": false,
     "start_time": "2025-07-19T06:08:43.851308",
     "status": "completed"
    },
    "tags": []
   },
   "outputs": [
    {
     "name": "stdout",
     "output_type": "stream",
     "text": [
      "Setup Complete\n"
     ]
    }
   ],
   "source": [
    "from learntools.core import binder\n",
    "binder.bind(globals())\n",
    "from learntools.data_cleaning.ex4 import *\n",
    "print(\"Setup Complete\")"
   ]
  },
  {
   "cell_type": "markdown",
   "id": "3ffce826",
   "metadata": {
    "papermill": {
     "duration": 0.003142,
     "end_time": "2025-07-19T06:08:45.763403",
     "exception": false,
     "start_time": "2025-07-19T06:08:45.760261",
     "status": "completed"
    },
    "tags": []
   },
   "source": [
    "# Get our environment set up\n",
    "\n",
    "The first thing we'll need to do is load in the libraries we'll be using."
   ]
  },
  {
   "cell_type": "code",
   "execution_count": 2,
   "id": "1eb3bb12",
   "metadata": {
    "execution": {
     "iopub.execute_input": "2025-07-19T06:08:45.771590Z",
     "iopub.status.busy": "2025-07-19T06:08:45.770698Z",
     "iopub.status.idle": "2025-07-19T06:08:45.775370Z",
     "shell.execute_reply": "2025-07-19T06:08:45.774589Z"
    },
    "papermill": {
     "duration": 0.010108,
     "end_time": "2025-07-19T06:08:45.776675",
     "exception": false,
     "start_time": "2025-07-19T06:08:45.766567",
     "status": "completed"
    },
    "tags": []
   },
   "outputs": [],
   "source": [
    "# modules we'll use\n",
    "import pandas as pd\n",
    "import numpy as np\n",
    "\n",
    "# helpful character encoding module\n",
    "import charset_normalizer\n",
    "\n",
    "# set seed for reproducibility\n",
    "np.random.seed(0)"
   ]
  },
  {
   "cell_type": "markdown",
   "id": "23e05b71",
   "metadata": {
    "papermill": {
     "duration": 0.00316,
     "end_time": "2025-07-19T06:08:45.783384",
     "exception": false,
     "start_time": "2025-07-19T06:08:45.780224",
     "status": "completed"
    },
    "tags": []
   },
   "source": [
    "# 1) What are encodings?\n",
    "\n",
    "You're working with a dataset composed of bytes.  Run the code cell below to print a sample entry."
   ]
  },
  {
   "cell_type": "code",
   "execution_count": 3,
   "id": "1516bd58",
   "metadata": {
    "execution": {
     "iopub.execute_input": "2025-07-19T06:08:45.791028Z",
     "iopub.status.busy": "2025-07-19T06:08:45.790709Z",
     "iopub.status.idle": "2025-07-19T06:08:45.795721Z",
     "shell.execute_reply": "2025-07-19T06:08:45.794807Z"
    },
    "papermill": {
     "duration": 0.010495,
     "end_time": "2025-07-19T06:08:45.797148",
     "exception": false,
     "start_time": "2025-07-19T06:08:45.786653",
     "status": "completed"
    },
    "tags": []
   },
   "outputs": [
    {
     "name": "stdout",
     "output_type": "stream",
     "text": [
      "b'\\xa7A\\xa6n'\n",
      "data type: <class 'bytes'>\n"
     ]
    }
   ],
   "source": [
    "sample_entry = b'\\xa7A\\xa6n'\n",
    "print(sample_entry)\n",
    "print('data type:', type(sample_entry))"
   ]
  },
  {
   "cell_type": "markdown",
   "id": "4dbba943",
   "metadata": {
    "papermill": {
     "duration": 0.003245,
     "end_time": "2025-07-19T06:08:45.803833",
     "exception": false,
     "start_time": "2025-07-19T06:08:45.800588",
     "status": "completed"
    },
    "tags": []
   },
   "source": [
    "You notice that it doesn't use the standard UTF-8 encoding. \n",
    "\n",
    "Use the next code cell to create a variable `new_entry` that changes the encoding from `\"big5-tw\"` to `\"utf-8\"`.  `new_entry` should have the bytes datatype."
   ]
  },
  {
   "cell_type": "code",
   "execution_count": 4,
   "id": "97f6d72b",
   "metadata": {
    "execution": {
     "iopub.execute_input": "2025-07-19T06:08:45.811682Z",
     "iopub.status.busy": "2025-07-19T06:08:45.811377Z",
     "iopub.status.idle": "2025-07-19T06:08:45.819449Z",
     "shell.execute_reply": "2025-07-19T06:08:45.818578Z"
    },
    "papermill": {
     "duration": 0.013644,
     "end_time": "2025-07-19T06:08:45.820760",
     "exception": false,
     "start_time": "2025-07-19T06:08:45.807116",
     "status": "completed"
    },
    "tags": []
   },
   "outputs": [
    {
     "data": {
      "application/javascript": [
       "parent.postMessage({\"jupyterEvent\": \"custom.exercise_interaction\", \"data\": {\"outcomeType\": 1, \"valueTowardsCompletion\": 0.3333333333333333, \"interactionType\": 1, \"questionType\": 1, \"questionId\": \"1_EncodingsIntro\", \"learnToolsVersion\": \"0.3.5\", \"failureMessage\": \"\", \"exceptionClass\": \"\", \"trace\": \"\"}}, \"*\")"
      ],
      "text/plain": [
       "<IPython.core.display.Javascript object>"
      ]
     },
     "metadata": {},
     "output_type": "display_data"
    },
    {
     "data": {
      "text/markdown": [
       "<span style=\"color:#33cc33\">Correct</span>"
      ],
      "text/plain": [
       "Correct"
      ]
     },
     "metadata": {},
     "output_type": "display_data"
    }
   ],
   "source": [
    "new_entry = sample_entry.decode(\"big5-tw\")\n",
    "new_entry = new_entry.encode(\"utf-8\", errors=\"replace\")\n",
    "\n",
    "\n",
    "# Check your answer\n",
    "q1.check()"
   ]
  },
  {
   "cell_type": "code",
   "execution_count": 5,
   "id": "b40a0a94",
   "metadata": {
    "execution": {
     "iopub.execute_input": "2025-07-19T06:08:45.830253Z",
     "iopub.status.busy": "2025-07-19T06:08:45.829903Z",
     "iopub.status.idle": "2025-07-19T06:08:45.834317Z",
     "shell.execute_reply": "2025-07-19T06:08:45.833513Z"
    },
    "papermill": {
     "duration": 0.011109,
     "end_time": "2025-07-19T06:08:45.835667",
     "exception": false,
     "start_time": "2025-07-19T06:08:45.824558",
     "status": "completed"
    },
    "tags": []
   },
   "outputs": [],
   "source": [
    "# Lines below will give you a hint or solution code\n",
    "#q1.hint()\n",
    "#q1.solution()"
   ]
  },
  {
   "cell_type": "markdown",
   "id": "a4ac98e9",
   "metadata": {
    "papermill": {
     "duration": 0.003246,
     "end_time": "2025-07-19T06:08:45.842505",
     "exception": false,
     "start_time": "2025-07-19T06:08:45.839259",
     "status": "completed"
    },
    "tags": []
   },
   "source": [
    "# 2) Reading in files with encoding problems\n",
    "\n",
    "Use the code cell below to read in this file at path `\"../input/fatal-police-shootings-in-the-us/PoliceKillingsUS.csv\"`.  \n",
    "\n",
    "Figure out what the correct encoding should be and read in the file to a DataFrame `police_killings`."
   ]
  },
  {
   "cell_type": "code",
   "execution_count": 6,
   "id": "a8681f9c",
   "metadata": {
    "execution": {
     "iopub.execute_input": "2025-07-19T06:08:45.850675Z",
     "iopub.status.busy": "2025-07-19T06:08:45.850377Z",
     "iopub.status.idle": "2025-07-19T06:08:45.871712Z",
     "shell.execute_reply": "2025-07-19T06:08:45.870895Z"
    },
    "papermill": {
     "duration": 0.027365,
     "end_time": "2025-07-19T06:08:45.873392",
     "exception": false,
     "start_time": "2025-07-19T06:08:45.846027",
     "status": "completed"
    },
    "tags": []
   },
   "outputs": [
    {
     "data": {
      "application/javascript": [
       "parent.postMessage({\"jupyterEvent\": \"custom.exercise_interaction\", \"data\": {\"outcomeType\": 1, \"valueTowardsCompletion\": 0.3333333333333333, \"interactionType\": 1, \"questionType\": 1, \"questionId\": \"2_ReadIn\", \"learnToolsVersion\": \"0.3.5\", \"failureMessage\": \"\", \"exceptionClass\": \"\", \"trace\": \"\"}}, \"*\")"
      ],
      "text/plain": [
       "<IPython.core.display.Javascript object>"
      ]
     },
     "metadata": {},
     "output_type": "display_data"
    },
    {
     "data": {
      "text/markdown": [
       "<span style=\"color:#33cc33\">Correct</span>"
      ],
      "text/plain": [
       "Correct"
      ]
     },
     "metadata": {},
     "output_type": "display_data"
    }
   ],
   "source": [
    "# TODO: Load in the DataFrame correctly.\n",
    "police_killings =pd.read_csv(\"../input/fatal-police-shootings-in-the-us/PoliceKillingsUS.csv\", encoding='windows-1250')\n",
    " \n",
    "\n",
    "# Check your answer\n",
    "q2.check()"
   ]
  },
  {
   "cell_type": "markdown",
   "id": "b0023926",
   "metadata": {
    "papermill": {
     "duration": 0.003394,
     "end_time": "2025-07-19T06:08:45.880542",
     "exception": false,
     "start_time": "2025-07-19T06:08:45.877148",
     "status": "completed"
    },
    "tags": []
   },
   "source": [
    "Feel free to use any additional code cells for supplemental work.  To get credit for finishing this question, you'll need to run `q2.check()` and get a result of **Correct**."
   ]
  },
  {
   "cell_type": "code",
   "execution_count": 7,
   "id": "b8d07efc",
   "metadata": {
    "execution": {
     "iopub.execute_input": "2025-07-19T06:08:45.888746Z",
     "iopub.status.busy": "2025-07-19T06:08:45.888476Z",
     "iopub.status.idle": "2025-07-19T06:08:45.892685Z",
     "shell.execute_reply": "2025-07-19T06:08:45.891823Z"
    },
    "papermill": {
     "duration": 0.009964,
     "end_time": "2025-07-19T06:08:45.894029",
     "exception": false,
     "start_time": "2025-07-19T06:08:45.884065",
     "status": "completed"
    },
    "tags": []
   },
   "outputs": [],
   "source": [
    "# (Optional) Use this code cell for any additional work."
   ]
  },
  {
   "cell_type": "code",
   "execution_count": 8,
   "id": "a3e85bc4",
   "metadata": {
    "execution": {
     "iopub.execute_input": "2025-07-19T06:08:45.903107Z",
     "iopub.status.busy": "2025-07-19T06:08:45.902570Z",
     "iopub.status.idle": "2025-07-19T06:08:45.906505Z",
     "shell.execute_reply": "2025-07-19T06:08:45.905832Z"
    },
    "papermill": {
     "duration": 0.00989,
     "end_time": "2025-07-19T06:08:45.907790",
     "exception": false,
     "start_time": "2025-07-19T06:08:45.897900",
     "status": "completed"
    },
    "tags": []
   },
   "outputs": [],
   "source": [
    "# Lines below will give you a hint or solution code\n",
    "#q2.hint()\n",
    "#q2.solution()"
   ]
  },
  {
   "cell_type": "markdown",
   "id": "3f3494dc",
   "metadata": {
    "papermill": {
     "duration": 0.00342,
     "end_time": "2025-07-19T06:08:45.914901",
     "exception": false,
     "start_time": "2025-07-19T06:08:45.911481",
     "status": "completed"
    },
    "tags": []
   },
   "source": [
    "# 3) Saving your files with UTF-8 encoding\n",
    "\n",
    "Save a version of the police killings dataset to CSV with UTF-8 encoding.  Your answer will be marked correct after saving this file.  \n",
    "\n",
    "Note: When using the `to_csv()` method, supply only the name of the file (e.g., `\"my_file.csv\"`).  This saves the file at the filepath `\"/kaggle/working/my_file.csv\"`."
   ]
  },
  {
   "cell_type": "code",
   "execution_count": 9,
   "id": "2299e61f",
   "metadata": {
    "execution": {
     "iopub.execute_input": "2025-07-19T06:08:45.923408Z",
     "iopub.status.busy": "2025-07-19T06:08:45.923065Z",
     "iopub.status.idle": "2025-07-19T06:08:46.030342Z",
     "shell.execute_reply": "2025-07-19T06:08:46.029422Z"
    },
    "papermill": {
     "duration": 0.11312,
     "end_time": "2025-07-19T06:08:46.031699",
     "exception": false,
     "start_time": "2025-07-19T06:08:45.918579",
     "status": "completed"
    },
    "tags": []
   },
   "outputs": [
    {
     "data": {
      "application/javascript": [
       "parent.postMessage({\"jupyterEvent\": \"custom.exercise_interaction\", \"data\": {\"outcomeType\": 1, \"valueTowardsCompletion\": 0.3333333333333333, \"interactionType\": 1, \"questionType\": 2, \"questionId\": \"3_SaveCSV\", \"learnToolsVersion\": \"0.3.5\", \"failureMessage\": \"\", \"exceptionClass\": \"\", \"trace\": \"\"}}, \"*\")"
      ],
      "text/plain": [
       "<IPython.core.display.Javascript object>"
      ]
     },
     "metadata": {},
     "output_type": "display_data"
    },
    {
     "data": {
      "text/markdown": [
       "<span style=\"color:#33cc33\">Correct</span>"
      ],
      "text/plain": [
       "Correct"
      ]
     },
     "metadata": {},
     "output_type": "display_data"
    }
   ],
   "source": [
    "# TODO: Save the police killings dataset to CSV\n",
    "police_killings.to_csv(\"/kaggle/working/my_file.csv\")\n",
    "\n",
    "# Check your answer\n",
    "q3.check()"
   ]
  },
  {
   "cell_type": "code",
   "execution_count": 10,
   "id": "672a0c83",
   "metadata": {
    "execution": {
     "iopub.execute_input": "2025-07-19T06:08:46.041351Z",
     "iopub.status.busy": "2025-07-19T06:08:46.041036Z",
     "iopub.status.idle": "2025-07-19T06:08:46.044676Z",
     "shell.execute_reply": "2025-07-19T06:08:46.044018Z"
    },
    "papermill": {
     "duration": 0.009754,
     "end_time": "2025-07-19T06:08:46.045977",
     "exception": false,
     "start_time": "2025-07-19T06:08:46.036223",
     "status": "completed"
    },
    "tags": []
   },
   "outputs": [],
   "source": [
    "# Lines below will give you a hint or solution code\n",
    "#q3.hint()\n",
    "#q3.solution()"
   ]
  },
  {
   "cell_type": "markdown",
   "id": "d0f8140a",
   "metadata": {
    "papermill": {
     "duration": 0.003672,
     "end_time": "2025-07-19T06:08:46.053797",
     "exception": false,
     "start_time": "2025-07-19T06:08:46.050125",
     "status": "completed"
    },
    "tags": []
   },
   "source": [
    "# (Optional) More practice\n",
    "\n",
    "Check out [this dataset of files in different character encodings](https://www.kaggle.com/rtatman/character-encoding-examples). Can you read in all the files with their original encodings and them save them out as UTF-8 files?\n",
    "\n",
    "If you have a file that's in UTF-8 but has just a couple of weird-looking characters in it, you can try out the [ftfy module](https://ftfy.readthedocs.io/en/latest/#) and see if it helps. \n",
    "\n",
    "# Keep going\n",
    "\n",
    "In the final lesson, learn how to [**clean up inconsistent text entries**](https://www.kaggle.com/alexisbcook/inconsistent-data-entry) in your dataset."
   ]
  },
  {
   "cell_type": "markdown",
   "id": "8d7d5791",
   "metadata": {
    "papermill": {
     "duration": 0.003635,
     "end_time": "2025-07-19T06:08:46.061320",
     "exception": false,
     "start_time": "2025-07-19T06:08:46.057685",
     "status": "completed"
    },
    "tags": []
   },
   "source": [
    "---\n",
    "\n",
    "\n",
    "\n",
    "\n",
    "*Have questions or comments? Visit the [course discussion forum](https://www.kaggle.com/learn/data-cleaning/discussion) to chat with other learners.*"
   ]
  }
 ],
 "metadata": {
  "kaggle": {
   "accelerator": "none",
   "dataSources": [
    {
     "datasetId": 2647,
     "sourceId": 4395,
     "sourceType": "datasetVersion"
    }
   ],
   "isGpuEnabled": false,
   "isInternetEnabled": false,
   "language": "python",
   "sourceType": "notebook"
  },
  "kernelspec": {
   "display_name": "Python 3",
   "language": "python",
   "name": "python3"
  },
  "language_info": {
   "codemirror_mode": {
    "name": "ipython",
    "version": 3
   },
   "file_extension": ".py",
   "mimetype": "text/x-python",
   "name": "python",
   "nbconvert_exporter": "python",
   "pygments_lexer": "ipython3",
   "version": "3.11.13"
  },
  "papermill": {
   "default_parameters": {},
   "duration": 8.341751,
   "end_time": "2025-07-19T06:08:46.584338",
   "environment_variables": {},
   "exception": null,
   "input_path": "__notebook__.ipynb",
   "output_path": "__notebook__.ipynb",
   "parameters": {},
   "start_time": "2025-07-19T06:08:38.242587",
   "version": "2.6.0"
  }
 },
 "nbformat": 4,
 "nbformat_minor": 5
}
