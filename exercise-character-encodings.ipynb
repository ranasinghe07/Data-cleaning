{
 "cells": [
  {
   "cell_type": "markdown",
   "id": "23ee9180",
   "metadata": {
    "papermill": {
     "duration": 0.004131,
     "end_time": "2025-07-19T06:09:36.297536",
     "exception": false,
     "start_time": "2025-07-19T06:09:36.293405",
     "status": "completed"
    },
    "tags": []
   },
   "source": [
    "**This notebook is an exercise in the [Data Cleaning](https://www.kaggle.com/learn/data-cleaning) course.  You can reference the tutorial at [this link](https://www.kaggle.com/alexisbcook/character-encodings).**\n",
    "\n",
    "---\n"
   ]
  },
  {
   "cell_type": "markdown",
   "id": "7f063f40",
   "metadata": {
    "papermill": {
     "duration": 0.002922,
     "end_time": "2025-07-19T06:09:36.303904",
     "exception": false,
     "start_time": "2025-07-19T06:09:36.300982",
     "status": "completed"
    },
    "tags": []
   },
   "source": [
    "In this exercise, you'll apply what you learned in the **Character encodings** tutorial.\n",
    "\n",
    "# Setup\n",
    "\n",
    "The questions below will give you feedback on your work. Run the following cell to set up the feedback system."
   ]
  },
  {
   "cell_type": "code",
   "execution_count": 1,
   "id": "7ada87b1",
   "metadata": {
    "execution": {
     "iopub.execute_input": "2025-07-19T06:09:36.311658Z",
     "iopub.status.busy": "2025-07-19T06:09:36.311282Z",
     "iopub.status.idle": "2025-07-19T06:09:38.309674Z",
     "shell.execute_reply": "2025-07-19T06:09:38.308800Z"
    },
    "papermill": {
     "duration": 2.003947,
     "end_time": "2025-07-19T06:09:38.311085",
     "exception": false,
     "start_time": "2025-07-19T06:09:36.307138",
     "status": "completed"
    },
    "tags": []
   },
   "outputs": [
    {
     "name": "stdout",
     "output_type": "stream",
     "text": [
      "Setup Complete\n"
     ]
    }
   ],
   "source": [
    "from learntools.core import binder\n",
    "binder.bind(globals())\n",
    "from learntools.data_cleaning.ex4 import *\n",
    "print(\"Setup Complete\")"
   ]
  },
  {
   "cell_type": "markdown",
   "id": "25981203",
   "metadata": {
    "papermill": {
     "duration": 0.003137,
     "end_time": "2025-07-19T06:09:38.317730",
     "exception": false,
     "start_time": "2025-07-19T06:09:38.314593",
     "status": "completed"
    },
    "tags": []
   },
   "source": [
    "# Get our environment set up\n",
    "\n",
    "The first thing we'll need to do is load in the libraries we'll be using."
   ]
  },
  {
   "cell_type": "code",
   "execution_count": 2,
   "id": "600cea6d",
   "metadata": {
    "execution": {
     "iopub.execute_input": "2025-07-19T06:09:38.325527Z",
     "iopub.status.busy": "2025-07-19T06:09:38.325225Z",
     "iopub.status.idle": "2025-07-19T06:09:38.329704Z",
     "shell.execute_reply": "2025-07-19T06:09:38.328860Z"
    },
    "papermill": {
     "duration": 0.010477,
     "end_time": "2025-07-19T06:09:38.331488",
     "exception": false,
     "start_time": "2025-07-19T06:09:38.321011",
     "status": "completed"
    },
    "tags": []
   },
   "outputs": [],
   "source": [
    "# modules we'll use\n",
    "import pandas as pd\n",
    "import numpy as np\n",
    "\n",
    "# helpful character encoding module\n",
    "import charset_normalizer\n",
    "\n",
    "# set seed for reproducibility\n",
    "np.random.seed(0)"
   ]
  },
  {
   "cell_type": "markdown",
   "id": "9295835a",
   "metadata": {
    "papermill": {
     "duration": 0.003501,
     "end_time": "2025-07-19T06:09:38.338519",
     "exception": false,
     "start_time": "2025-07-19T06:09:38.335018",
     "status": "completed"
    },
    "tags": []
   },
   "source": [
    "# 1) What are encodings?\n",
    "\n",
    "You're working with a dataset composed of bytes.  Run the code cell below to print a sample entry."
   ]
  },
  {
   "cell_type": "code",
   "execution_count": 3,
   "id": "45236cb1",
   "metadata": {
    "execution": {
     "iopub.execute_input": "2025-07-19T06:09:38.346291Z",
     "iopub.status.busy": "2025-07-19T06:09:38.345987Z",
     "iopub.status.idle": "2025-07-19T06:09:38.350411Z",
     "shell.execute_reply": "2025-07-19T06:09:38.349625Z"
    },
    "papermill": {
     "duration": 0.009967,
     "end_time": "2025-07-19T06:09:38.351823",
     "exception": false,
     "start_time": "2025-07-19T06:09:38.341856",
     "status": "completed"
    },
    "tags": []
   },
   "outputs": [
    {
     "name": "stdout",
     "output_type": "stream",
     "text": [
      "b'\\xa7A\\xa6n'\n",
      "data type: <class 'bytes'>\n"
     ]
    }
   ],
   "source": [
    "sample_entry = b'\\xa7A\\xa6n'\n",
    "print(sample_entry)\n",
    "print('data type:', type(sample_entry))"
   ]
  },
  {
   "cell_type": "markdown",
   "id": "eb650727",
   "metadata": {
    "papermill": {
     "duration": 0.00323,
     "end_time": "2025-07-19T06:09:38.358601",
     "exception": false,
     "start_time": "2025-07-19T06:09:38.355371",
     "status": "completed"
    },
    "tags": []
   },
   "source": [
    "You notice that it doesn't use the standard UTF-8 encoding. \n",
    "\n",
    "Use the next code cell to create a variable `new_entry` that changes the encoding from `\"big5-tw\"` to `\"utf-8\"`.  `new_entry` should have the bytes datatype."
   ]
  },
  {
   "cell_type": "code",
   "execution_count": 4,
   "id": "57d3ac9e",
   "metadata": {
    "execution": {
     "iopub.execute_input": "2025-07-19T06:09:38.367103Z",
     "iopub.status.busy": "2025-07-19T06:09:38.366215Z",
     "iopub.status.idle": "2025-07-19T06:09:38.374363Z",
     "shell.execute_reply": "2025-07-19T06:09:38.373587Z"
    },
    "papermill": {
     "duration": 0.013857,
     "end_time": "2025-07-19T06:09:38.375808",
     "exception": false,
     "start_time": "2025-07-19T06:09:38.361951",
     "status": "completed"
    },
    "tags": []
   },
   "outputs": [
    {
     "data": {
      "application/javascript": [
       "parent.postMessage({\"jupyterEvent\": \"custom.exercise_interaction\", \"data\": {\"outcomeType\": 1, \"valueTowardsCompletion\": 0.3333333333333333, \"interactionType\": 1, \"questionType\": 1, \"questionId\": \"1_EncodingsIntro\", \"learnToolsVersion\": \"0.3.5\", \"failureMessage\": \"\", \"exceptionClass\": \"\", \"trace\": \"\"}}, \"*\")"
      ],
      "text/plain": [
       "<IPython.core.display.Javascript object>"
      ]
     },
     "metadata": {},
     "output_type": "display_data"
    },
    {
     "data": {
      "text/markdown": [
       "<span style=\"color:#33cc33\">Correct</span>"
      ],
      "text/plain": [
       "Correct"
      ]
     },
     "metadata": {},
     "output_type": "display_data"
    }
   ],
   "source": [
    "new_entry = sample_entry.decode(\"big5-tw\")\n",
    "new_entry = new_entry.encode(\"utf-8\", errors=\"replace\")\n",
    "\n",
    "\n",
    "# Check your answer\n",
    "q1.check()"
   ]
  },
  {
   "cell_type": "code",
   "execution_count": 5,
   "id": "3b4f0b11",
   "metadata": {
    "execution": {
     "iopub.execute_input": "2025-07-19T06:09:38.385483Z",
     "iopub.status.busy": "2025-07-19T06:09:38.385154Z",
     "iopub.status.idle": "2025-07-19T06:09:38.389067Z",
     "shell.execute_reply": "2025-07-19T06:09:38.388269Z"
    },
    "papermill": {
     "duration": 0.01096,
     "end_time": "2025-07-19T06:09:38.390563",
     "exception": false,
     "start_time": "2025-07-19T06:09:38.379603",
     "status": "completed"
    },
    "tags": []
   },
   "outputs": [],
   "source": [
    "# Lines below will give you a hint or solution code\n",
    "#q1.hint()\n",
    "#q1.solution()"
   ]
  },
  {
   "cell_type": "markdown",
   "id": "f5fe4410",
   "metadata": {
    "papermill": {
     "duration": 0.003324,
     "end_time": "2025-07-19T06:09:38.397521",
     "exception": false,
     "start_time": "2025-07-19T06:09:38.394197",
     "status": "completed"
    },
    "tags": []
   },
   "source": [
    "# 2) Reading in files with encoding problems\n",
    "\n",
    "Use the code cell below to read in this file at path `\"../input/fatal-police-shootings-in-the-us/PoliceKillingsUS.csv\"`.  \n",
    "\n",
    "Figure out what the correct encoding should be and read in the file to a DataFrame `police_killings`."
   ]
  },
  {
   "cell_type": "code",
   "execution_count": 6,
   "id": "545f6b6e",
   "metadata": {
    "execution": {
     "iopub.execute_input": "2025-07-19T06:09:38.405715Z",
     "iopub.status.busy": "2025-07-19T06:09:38.405427Z",
     "iopub.status.idle": "2025-07-19T06:09:38.427701Z",
     "shell.execute_reply": "2025-07-19T06:09:38.426842Z"
    },
    "papermill": {
     "duration": 0.028037,
     "end_time": "2025-07-19T06:09:38.429099",
     "exception": false,
     "start_time": "2025-07-19T06:09:38.401062",
     "status": "completed"
    },
    "tags": []
   },
   "outputs": [
    {
     "data": {
      "application/javascript": [
       "parent.postMessage({\"jupyterEvent\": \"custom.exercise_interaction\", \"data\": {\"outcomeType\": 1, \"valueTowardsCompletion\": 0.3333333333333333, \"interactionType\": 1, \"questionType\": 1, \"questionId\": \"2_ReadIn\", \"learnToolsVersion\": \"0.3.5\", \"failureMessage\": \"\", \"exceptionClass\": \"\", \"trace\": \"\"}}, \"*\")"
      ],
      "text/plain": [
       "<IPython.core.display.Javascript object>"
      ]
     },
     "metadata": {},
     "output_type": "display_data"
    },
    {
     "data": {
      "text/markdown": [
       "<span style=\"color:#33cc33\">Correct</span>"
      ],
      "text/plain": [
       "Correct"
      ]
     },
     "metadata": {},
     "output_type": "display_data"
    }
   ],
   "source": [
    "# TODO: Load in the DataFrame correctly.\n",
    "police_killings =pd.read_csv(\"../input/fatal-police-shootings-in-the-us/PoliceKillingsUS.csv\", encoding='windows-1250')\n",
    " \n",
    "\n",
    "# Check your answer\n",
    "q2.check()"
   ]
  },
  {
   "cell_type": "markdown",
   "id": "88b173c5",
   "metadata": {
    "papermill": {
     "duration": 0.003499,
     "end_time": "2025-07-19T06:09:38.436474",
     "exception": false,
     "start_time": "2025-07-19T06:09:38.432975",
     "status": "completed"
    },
    "tags": []
   },
   "source": [
    "Feel free to use any additional code cells for supplemental work.  To get credit for finishing this question, you'll need to run `q2.check()` and get a result of **Correct**."
   ]
  },
  {
   "cell_type": "code",
   "execution_count": 7,
   "id": "c92b5260",
   "metadata": {
    "execution": {
     "iopub.execute_input": "2025-07-19T06:09:38.444865Z",
     "iopub.status.busy": "2025-07-19T06:09:38.444592Z",
     "iopub.status.idle": "2025-07-19T06:09:38.448639Z",
     "shell.execute_reply": "2025-07-19T06:09:38.447864Z"
    },
    "papermill": {
     "duration": 0.009897,
     "end_time": "2025-07-19T06:09:38.449978",
     "exception": false,
     "start_time": "2025-07-19T06:09:38.440081",
     "status": "completed"
    },
    "tags": []
   },
   "outputs": [],
   "source": [
    "# (Optional) Use this code cell for any additional work."
   ]
  },
  {
   "cell_type": "code",
   "execution_count": 8,
   "id": "c4bafaf7",
   "metadata": {
    "execution": {
     "iopub.execute_input": "2025-07-19T06:09:38.459003Z",
     "iopub.status.busy": "2025-07-19T06:09:38.458717Z",
     "iopub.status.idle": "2025-07-19T06:09:38.462682Z",
     "shell.execute_reply": "2025-07-19T06:09:38.461914Z"
    },
    "papermill": {
     "duration": 0.010108,
     "end_time": "2025-07-19T06:09:38.464027",
     "exception": false,
     "start_time": "2025-07-19T06:09:38.453919",
     "status": "completed"
    },
    "tags": []
   },
   "outputs": [],
   "source": [
    "# Lines below will give you a hint or solution code\n",
    "#q2.hint()\n",
    "#q2.solution()"
   ]
  },
  {
   "cell_type": "markdown",
   "id": "05ba2561",
   "metadata": {
    "papermill": {
     "duration": 0.003499,
     "end_time": "2025-07-19T06:09:38.471349",
     "exception": false,
     "start_time": "2025-07-19T06:09:38.467850",
     "status": "completed"
    },
    "tags": []
   },
   "source": [
    "# 3) Saving your files with UTF-8 encoding\n",
    "\n",
    "Save a version of the police killings dataset to CSV with UTF-8 encoding.  Your answer will be marked correct after saving this file.  \n",
    "\n",
    "Note: When using the `to_csv()` method, supply only the name of the file (e.g., `\"my_file.csv\"`).  This saves the file at the filepath `\"/kaggle/working/my_file.csv\"`."
   ]
  },
  {
   "cell_type": "code",
   "execution_count": 9,
   "id": "58854662",
   "metadata": {
    "execution": {
     "iopub.execute_input": "2025-07-19T06:09:38.479932Z",
     "iopub.status.busy": "2025-07-19T06:09:38.479650Z",
     "iopub.status.idle": "2025-07-19T06:09:38.586879Z",
     "shell.execute_reply": "2025-07-19T06:09:38.585894Z"
    },
    "papermill": {
     "duration": 0.11622,
     "end_time": "2025-07-19T06:09:38.591320",
     "exception": false,
     "start_time": "2025-07-19T06:09:38.475100",
     "status": "completed"
    },
    "tags": []
   },
   "outputs": [
    {
     "data": {
      "application/javascript": [
       "parent.postMessage({\"jupyterEvent\": \"custom.exercise_interaction\", \"data\": {\"outcomeType\": 1, \"valueTowardsCompletion\": 0.3333333333333333, \"interactionType\": 1, \"questionType\": 2, \"questionId\": \"3_SaveCSV\", \"learnToolsVersion\": \"0.3.5\", \"failureMessage\": \"\", \"exceptionClass\": \"\", \"trace\": \"\"}}, \"*\")"
      ],
      "text/plain": [
       "<IPython.core.display.Javascript object>"
      ]
     },
     "metadata": {},
     "output_type": "display_data"
    },
    {
     "data": {
      "text/markdown": [
       "<span style=\"color:#33cc33\">Correct</span>"
      ],
      "text/plain": [
       "Correct"
      ]
     },
     "metadata": {},
     "output_type": "display_data"
    }
   ],
   "source": [
    "# TODO: Save the police killings dataset to CSV\n",
    "police_killings.to_csv(\"/kaggle/working/my_file.csv\")\n",
    "\n",
    "# Check your answer\n",
    "q3.check()"
   ]
  },
  {
   "cell_type": "code",
   "execution_count": 10,
   "id": "cd8568cd",
   "metadata": {
    "execution": {
     "iopub.execute_input": "2025-07-19T06:09:38.601260Z",
     "iopub.status.busy": "2025-07-19T06:09:38.600912Z",
     "iopub.status.idle": "2025-07-19T06:09:38.604645Z",
     "shell.execute_reply": "2025-07-19T06:09:38.603873Z"
    },
    "papermill": {
     "duration": 0.010087,
     "end_time": "2025-07-19T06:09:38.606097",
     "exception": false,
     "start_time": "2025-07-19T06:09:38.596010",
     "status": "completed"
    },
    "tags": []
   },
   "outputs": [],
   "source": [
    "# Lines below will give you a hint or solution code\n",
    "#q3.hint()\n",
    "#q3.solution()"
   ]
  },
  {
   "cell_type": "markdown",
   "id": "530a1d61",
   "metadata": {
    "papermill": {
     "duration": 0.004159,
     "end_time": "2025-07-19T06:09:38.614429",
     "exception": false,
     "start_time": "2025-07-19T06:09:38.610270",
     "status": "completed"
    },
    "tags": []
   },
   "source": [
    "# (Optional) More practice\n",
    "\n",
    "Check out [this dataset of files in different character encodings](https://www.kaggle.com/rtatman/character-encoding-examples). Can you read in all the files with their original encodings and them save them out as UTF-8 files?\n",
    "\n",
    "If you have a file that's in UTF-8 but has just a couple of weird-looking characters in it, you can try out the [ftfy module](https://ftfy.readthedocs.io/en/latest/#) and see if it helps. \n",
    "\n",
    "# Keep going\n",
    "\n",
    "In the final lesson, learn how to [**clean up inconsistent text entries**](https://www.kaggle.com/alexisbcook/inconsistent-data-entry) in your dataset."
   ]
  },
  {
   "cell_type": "markdown",
   "id": "2bdec73b",
   "metadata": {
    "papermill": {
     "duration": 0.003997,
     "end_time": "2025-07-19T06:09:38.622680",
     "exception": false,
     "start_time": "2025-07-19T06:09:38.618683",
     "status": "completed"
    },
    "tags": []
   },
   "source": [
    "---\n",
    "\n",
    "\n",
    "\n",
    "\n",
    "*Have questions or comments? Visit the [course discussion forum](https://www.kaggle.com/learn/data-cleaning/discussion) to chat with other learners.*"
   ]
  }
 ],
 "metadata": {
  "kaggle": {
   "accelerator": "none",
   "dataSources": [
    {
     "datasetId": 2647,
     "sourceId": 4395,
     "sourceType": "datasetVersion"
    }
   ],
   "isGpuEnabled": false,
   "isInternetEnabled": false,
   "language": "python",
   "sourceType": "notebook"
  },
  "kernelspec": {
   "display_name": "Python 3",
   "language": "python",
   "name": "python3"
  },
  "language_info": {
   "codemirror_mode": {
    "name": "ipython",
    "version": 3
   },
   "file_extension": ".py",
   "mimetype": "text/x-python",
   "name": "python",
   "nbconvert_exporter": "python",
   "pygments_lexer": "ipython3",
   "version": "3.11.13"
  },
  "papermill": {
   "default_parameters": {},
   "duration": 7.473066,
   "end_time": "2025-07-19T06:09:39.145274",
   "environment_variables": {},
   "exception": null,
   "input_path": "__notebook__.ipynb",
   "output_path": "__notebook__.ipynb",
   "parameters": {},
   "start_time": "2025-07-19T06:09:31.672208",
   "version": "2.6.0"
  }
 },
 "nbformat": 4,
 "nbformat_minor": 5
}
